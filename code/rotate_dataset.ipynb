{
 "cells": [
  {
   "cell_type": "code",
   "execution_count": 2,
   "metadata": {},
   "outputs": [],
   "source": [
    "import shutil\n",
    "from pathlib import Path\n",
    "import random\n",
    "from PIL import Image\n",
    "import time\n",
    "from tqdm import tqdm"
   ]
  },
  {
   "cell_type": "code",
   "execution_count": 7,
   "metadata": {},
   "outputs": [],
   "source": [
    "SOURCE_FOLDER = Path(r\"/Users/robin/PycharmProjects/data/test_color_cropped\")\n",
    "TARGET_FOLDER = r\"/Users/robin/PycharmProjects/data/rotated/test_crop_{}_degree\"\n",
    "DEGREE_START = 0 \n",
    "DEGREE_END = -135\n",
    "DEGREE_STEP = -1"
   ]
  },
  {
   "cell_type": "code",
   "execution_count": 8,
   "metadata": {},
   "outputs": [
    {
     "name": "stderr",
     "output_type": "stream",
     "text": [
      "100%|██████████| 136/136 [35:53<00:00, 15.83s/it]  \n"
     ]
    }
   ],
   "source": [
    "for degree in tqdm(range(DEGREE_START, DEGREE_END-1, DEGREE_STEP)):\n",
    "    # Create dynamic target folder\n",
    "    target_folder = Path(TARGET_FOLDER.format(str(degree).zfill(3)))\n",
    "    \n",
    "    # Create duplicates from orignal images for manipulation\n",
    "    if not target_folder.is_dir():\n",
    "        shutil.copytree(SOURCE_FOLDER, target_folder)\n",
    "    \n",
    "    # Rotate images, use degree random with plus or minus\n",
    "    for i, path in enumerate(target_folder.rglob(\"*.ppm\")):\n",
    "        image = Image.open(path)\n",
    "        flip = random.randint(0, 1)\n",
    "        cur_degree = degree if flip == 1 else (-1*degree)\n",
    "        rotated = image.rotate(cur_degree)\n",
    "        rotated.save(path)"
   ]
  },
  {
   "cell_type": "code",
   "execution_count": null,
   "metadata": {},
   "outputs": [],
   "source": []
  }
 ],
 "metadata": {
  "kernelspec": {
   "display_name": "Python 3",
   "language": "python",
   "name": "python3"
  },
  "language_info": {
   "codemirror_mode": {
    "name": "ipython",
    "version": 3
   },
   "file_extension": ".py",
   "mimetype": "text/x-python",
   "name": "python",
   "nbconvert_exporter": "python",
   "pygments_lexer": "ipython3",
   "version": "3.8.3"
  }
 },
 "nbformat": 4,
 "nbformat_minor": 4
}
