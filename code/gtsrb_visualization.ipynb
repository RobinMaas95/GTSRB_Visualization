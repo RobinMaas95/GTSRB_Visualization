{
 "cells": [
  {
   "cell_type": "markdown",
   "metadata": {},
   "source": [
    "### Information:\n",
    "Unfortunately, JupyterLab does not support displaying logs/status progress while a cell is running (at least on Windows). Instead, everything is displayed at the end. Colab, on the other hand, displays the logs/status progress correctly.\n"
   ]
  },
  {
   "cell_type": "code",
   "execution_count": null,
   "metadata": {},
   "outputs": [],
   "source": [
    "if \"google.colab\" in str(get_ipython()):\n",
    "    colab = True\n",
    "else:\n",
    "    colab = False"
   ]
  },
  {
   "cell_type": "code",
   "execution_count": null,
   "metadata": {
    "id": "rQq48K8IhWwI"
   },
   "outputs": [],
   "source": [
    "import shutil\n",
    "import zipfile\n",
    "from pathlib import Path\n",
    "\n",
    "if colab:\n",
    "    from google.colab import files"
   ]
  },
  {
   "cell_type": "markdown",
   "metadata": {
    "id": "Qe0KNHYnVIQZ"
   },
   "source": [
    "## Check for GPU Usage"
   ]
  },
  {
   "cell_type": "code",
   "execution_count": null,
   "metadata": {
    "colab": {
     "base_uri": "https://localhost:8080/"
    },
    "id": "Fp4BCBkfVHhN",
    "outputId": "58b0d866-dfe4-483d-8bb6-abebd594ba15"
   },
   "outputs": [],
   "source": [
    "if colab:\n",
    "    %tensorflow_version 2.x\n",
    "import tensorflow as tf\n",
    "\n",
    "device_name = tf.test.gpu_device_name()\n",
    "if device_name != \"/device:GPU:0\":\n",
    "    raise SystemError(\"No GPU found, CPU will be used!\")\n",
    "print(\"Found GPU at: {}\".format(device_name))"
   ]
  },
  {
   "cell_type": "markdown",
   "metadata": {
    "id": "Ve0tvKKhUEEa"
   },
   "source": [
    "## Install necessary modules\n",
    "Only neccessary if you working in colab. If you use your local system, please use the requirements.txt"
   ]
  },
  {
   "cell_type": "code",
   "execution_count": null,
   "metadata": {
    "colab": {
     "base_uri": "https://localhost:8080/"
    },
    "id": "i3voS8fPTk6J",
    "outputId": "d89ca5ef-d958-44bf-a4e3-271f324acf84"
   },
   "outputs": [],
   "source": [
    "if colab:\n",
    "    ! pip -q install pytorch-lightning --upgrade\n",
    "    ! pip -q install neptune-client\n",
    "    ! pip -q install kornia\n",
    "    ! pip -q install split-folders"
   ]
  },
  {
   "cell_type": "markdown",
   "metadata": {
    "id": "46kWfUzzX9e9"
   },
   "source": [
    "## Clone files from Github"
   ]
  },
  {
   "cell_type": "code",
   "execution_count": null,
   "metadata": {
    "colab": {
     "base_uri": "https://localhost:8080/"
    },
    "id": "bKZl94cCUHcX",
    "outputId": "3b300072-d815-45a1-8437-b0b545e7ea25"
   },
   "outputs": [],
   "source": [
    "if colab:\n",
    "    ! git clone https://github.com/RobinMaas95/GTSRB_Visualization.git\n",
    "else:\n",
    "    print(\"You're not on Colab, are you sure you haven't cloned the repo already?\")"
   ]
  },
  {
   "cell_type": "markdown",
   "metadata": {},
   "source": [
    "## Setup paths and create target folder\n"
   ]
  },
  {
   "cell_type": "code",
   "execution_count": null,
   "metadata": {},
   "outputs": [],
   "source": [
    "# Define paths\n",
    "base_path = Path.cwd()\n",
    "\n",
    "## If we use a local machine, we are presumably in the code folder. If so, change to parent folder\n",
    "if base_path.parent.name == \"GTSRB_Visualization\":\n",
    "    base_path = base_path.parent\n",
    "    %cd ..\n",
    "\n",
    "colab_suffix = \"GTSRB_Visualization\" if colab else \"\"   \n",
    "\n",
    "data_path = base_path.joinpath(colab_suffix,\"data\")\n",
    "src_path = data_path.joinpath(\"cropped_training\")\n",
    "trg_path = data_path.joinpath(\"cropped_training_init\")\n",
    "code_path = base_path.joinpath(colab_suffix, \"code\")\n",
    "get_dataset_path = code_path.joinpath(\"get_datasets.py\")\n",
    "initialize_dataset_path = code_path.joinpath(\"initialize_dataset.py\")\n",
    "build_model_path = code_path.joinpath(\"build_model.py\")\n",
    "visualization_path = code_path.joinpath(\"visualization.py\")\n",
    "visualization_with_nn_path = code_path.joinpath(\"visualization_with_nn.py\")\n",
    "mask_images_path = code_path.joinpath(\"mask_images.py\")\n",
    "visual_path = base_path.joinpath(\"visualizations\")\n",
    "masking_jsons_path = base_path.joinpath(\"masking_jsons\")\n",
    "masking_results_path = base_path.joinpath(\"masking_results\")\n",
    "\n",
    "# Create target folder\n",
    "visual_path.mkdir(exist_ok=True, parents=True)"
   ]
  },
  {
   "cell_type": "markdown",
   "metadata": {
    "id": "MowhEukjoix-"
   },
   "source": [
    "## Download Datasets"
   ]
  },
  {
   "cell_type": "code",
   "execution_count": null,
   "metadata": {
    "colab": {
     "base_uri": "https://localhost:8080/"
    },
    "id": "W3DLKeAjft8Q",
    "outputId": "699d211d-2e53-4b6d-c97b-0adc2e1c003f"
   },
   "outputs": [],
   "source": [
    "! python $get_dataset_path --crop True --working_dir $base_path\n",
    "# Backup folder_from repo\n",
    "data_path.joinpath(\"backup_repo\").mkdir(exist_ok=True)\n",
    "try:\n",
    "    shutil.move(str(data_path.joinpath(\"cropped_test\")), str(data_path.joinpath(\"backup_repo\", \"cropped_test\")))\n",
    "except FileNotFoundError:\n",
    "    print(f\"cropped_test not found. Probably it was already moved\")\n",
    "\n",
    "# Move new folder into data folder\n",
    "for file_name in [\"cropped_test\", \"cropped_training\", \"original_test\", \"original_training\"\n",
    "                  \"GT-final_test.csv\", \"GTSRB_Final_Test_GT.zip\", \n",
    "                  \"GTSRB_Final_Test_Images.zip\", \n",
    "                  \"GTSRB_Final_Training_Images.zip\"]:\n",
    "\n",
    "    try:\n",
    "        shutil.move(str(base_path.joinpath(file_name)), str(data_path.joinpath(file_name)))\n",
    "    except FileNotFoundError:\n",
    "        print(f\"\"\"{file_name} not found. Probably it was already moved or never existed \n",
    "              (cropped/original depending on --crop true/false)\"\"\")"
   ]
  },
  {
   "cell_type": "markdown",
   "metadata": {
    "id": "Jkh4Gepuont4"
   },
   "source": [
    "## Initialize Datasets"
   ]
  },
  {
   "cell_type": "code",
   "execution_count": null,
   "metadata": {
    "colab": {
     "base_uri": "https://localhost:8080/"
    },
    "id": "p7LSdZJroqlP",
    "outputId": "0e97a677-7a6f-4d7a-8902-d885c37f54e6"
   },
   "outputs": [],
   "source": [
    "!python $initialize_dataset_path \\\n",
    "    --source_path $src_path \\\n",
    "    --target_path $trg_path"
   ]
  },
  {
   "cell_type": "markdown",
   "metadata": {
    "id": "78erRl31osB3"
   },
   "source": [
    "## Build Model"
   ]
  },
  {
   "cell_type": "code",
   "execution_count": null,
   "metadata": {
    "id": "UbsLJlXOSA3U"
   },
   "outputs": [],
   "source": [
    "shutil.rmtree(base_path.joinpath(\"checkpoints\"), ignore_errors=True)"
   ]
  },
  {
   "cell_type": "code",
   "execution_count": null,
   "metadata": {},
   "outputs": [],
   "source": [
    "train_dataset = str(data_path.joinpath(\"cropped_training_init\"))\n",
    "test_dataset = str(data_path.joinpath(\"cropped_test\"))\n",
    "checkpoint_dest = base_path.joinpath(\"checkpoints\")\n",
    "\n",
    "# Comment in this lines, if you wanna test all cells inside\n",
    "# this notebook with only one image per class (fastest way to test)\n",
    "# train_dataset = data_path.joinpath(\"medium_dataset\", \"cropped_training_init\")\n",
    "# test_dataset = data_path.joinpath(\"medium_dataset\", \"cropped_test\")"
   ]
  },
  {
   "cell_type": "markdown",
   "metadata": {},
   "source": [
    "**ATTENTION**: \n",
    "\n",
    "\n",
    "The setting used in Thesis with a momentum of `0.9` seems to be unstable! This means that - depending on how the weights are initialized at the beginning - the CNN may not learn. If this is the case, it typically remains at a loss of about `3.8` and an accuracy of about `0.02`.\n",
    "\n",
    "\n",
    "The lower the momentum is set, the more stable the training process is.However, this may require more epochs to obtain similar accuracy values. \n",
    "\n",
    "\n",
    "The CNN used for the evaluations in the thesis was trained over `15 epochs` with a momentum of `0.9`. In further tests, however, other CNNs with lower momentum could be trained to almost identical accuracy values. With a momentum of `0.7`, for example, this required `20 epochs`.\n",
    "\n"
   ]
  },
  {
   "cell_type": "code",
   "execution_count": null,
   "metadata": {
    "colab": {
     "base_uri": "https://localhost:8080/"
    },
    "id": "qxWZtrziYIzO",
    "outputId": "40d96b96-d3c3-4a4b-c438-86795d6483c4"
   },
   "outputs": [],
   "source": [
    "# Possible flags for fast training:\n",
    "# -d 0.01 --> Only one percent dropout range\n",
    "# --epochs 2    --> Only two epochs\n",
    "\n",
    "! python $build_model_path \\\n",
    "  --train_dataset $train_dataset \\\n",
    "  --test_dataset  $test_dataset \\\n",
    "  --destination $checkpoint_dest \\\n",
    "  --momentum 0.9"
   ]
  },
  {
   "cell_type": "markdown",
   "metadata": {},
   "source": [
    "The value given here under `avg_test_acc` seems to be slightly higher than the value reached in `run_test_performance.ipynb`. However, since the value in `run_test_performance.ipynb` is the reproducible value, it is used within the thesis."
   ]
  },
  {
   "cell_type": "markdown",
   "metadata": {
    "id": "FRsMkYZgVGeI"
   },
   "source": [
    "## Set mean/std variables\n",
    "Set mean/std variables. \n",
    "You find them in the logs above close the top,\n",
    "just before the training begins.\n",
    "E.g.:\n",
    "\n",
    "```\n",
    "/content/GTSRB_Visualization/code/build_model.py - INFO - Mean: [0.32352597020361307, 0.2917746800988572, 0.31248061517888454]\n",
    "/content/GTSRB_Visualization/code/build_model.py - INFO - Std: [0.2770588879067902, 0.2602109151608635, 0.2735251700292777]\n",
    "```\n",
    "\n",
    "Replace the values of the _list variables with the lists at the end of the log lines:\n",
    "\n",
    " "
   ]
  },
  {
   "cell_type": "code",
   "execution_count": null,
   "metadata": {
    "id": "K9bZA6dkU2Y_"
   },
   "outputs": [],
   "source": [
    "mean_list = [0.3232291265307408, 0.2916548292210219, 0.31239060828717274]\n",
    "std_list = [0.2765753268041087, 0.26007308085671965, 0.27338755423173944]\n",
    "mean = f\"{mean_list[0]} {mean_list[1]} {mean_list[2]}\"\n",
    "std = f\"{std_list[0]} {std_list[1]} {std_list[2]}\""
   ]
  },
  {
   "cell_type": "markdown",
   "metadata": {
    "id": "MPpEs80M_OBp"
   },
   "source": [
    "## Run visualizations"
   ]
  },
  {
   "cell_type": "code",
   "execution_count": null,
   "metadata": {
    "id": "uYGcKOCVAiHa"
   },
   "outputs": [],
   "source": [
    "# Autoselect best checkpoint\n",
    "from pathlib import Path\n",
    "\n",
    "checkpoint_results_path = checkpoint_dest.joinpath(\n",
    "    \"lightning_logs\", \"version_0\", \"checkpoints\"\n",
    ")\n",
    "p = Path(checkpoint_results_path).glob(\"**/*\")\n",
    "files = [x for x in p if x.is_file()]\n",
    "for file in files:\n",
    "    if file.name != \"last.ckpt\":\n",
    "        best_checkpoint = str(file)"
   ]
  },
  {
   "cell_type": "markdown",
   "metadata": {},
   "source": [
    "### GradCam"
   ]
  },
  {
   "cell_type": "code",
   "execution_count": null,
   "metadata": {
    "colab": {
     "base_uri": "https://localhost:8080/"
    },
    "id": "uNbAxtk__SXa",
    "outputId": "7fd0ce7c-ed72-4005-c096-31426bbb8b58"
   },
   "outputs": [],
   "source": [
    "! python $visualization_path \\\n",
    "  --dest $visual_path --filetype \"ppm\" \\\n",
    "  --model $best_checkpoint \\\n",
    "  --src $test_dataset --vis \"GradCam\" \\\n",
    "  --mean $mean \\\n",
    "  --std $std"
   ]
  },
  {
   "cell_type": "markdown",
   "metadata": {},
   "source": [
    "### GradCam++"
   ]
  },
  {
   "cell_type": "code",
   "execution_count": null,
   "metadata": {
    "colab": {
     "base_uri": "https://localhost:8080/"
    },
    "id": "Hok9QPt__ISY",
    "outputId": "49b7bbc3-dca7-40d5-f670-ea4c636a7357"
   },
   "outputs": [],
   "source": [
    "! python $visualization_path \\\n",
    "  --dest $visual_path --filetype \"ppm\" \\\n",
    "  --model $best_checkpoint \\\n",
    "  --src $test_dataset --vis \"GradCam++\" \\\n",
    "  --mean $mean \\\n",
    "  --std $std"
   ]
  },
  {
   "cell_type": "markdown",
   "metadata": {},
   "source": [
    "### Saliency Map"
   ]
  },
  {
   "cell_type": "code",
   "execution_count": null,
   "metadata": {
    "colab": {
     "base_uri": "https://localhost:8080/",
     "height": 1000
    },
    "id": "QaSaU89s_bkI",
    "outputId": "0934ec24-f5cd-451b-a604-3d4967f17448"
   },
   "outputs": [],
   "source": [
    "# Install nn_interpretability, make sure you push the restart button!\n",
    "nn_path = code_path.joinpath(\"nn_interpretability\")\n",
    "! pip install -e $nn_path"
   ]
  },
  {
   "cell_type": "code",
   "execution_count": null,
   "metadata": {
    "colab": {
     "base_uri": "https://localhost:8080/"
    },
    "id": "U9jERBYK_g52",
    "outputId": "8f00a4b6-4d06-44f5-f836-719a4d9d0ae3"
   },
   "outputs": [],
   "source": [
    "! python $visualization_with_nn_path \\\n",
    "  --dest $visual_path --filetype \"ppm\" \\\n",
    "  --model $best_checkpoint \\\n",
    "  --src $test_dataset --vis \"Saliency\" \\\n",
    "  --mean $mean \\\n",
    "  --std $std"
   ]
  },
  {
   "cell_type": "markdown",
   "metadata": {},
   "source": [
    "### Activation Maximation"
   ]
  },
  {
   "cell_type": "code",
   "execution_count": null,
   "metadata": {
    "colab": {
     "background_save": true
    },
    "id": "W9kZJ_Hd_jR4",
    "outputId": "8955e56c-786a-42ff-e9e3-d8bba2a3b118"
   },
   "outputs": [],
   "source": [
    "! python $visualization_with_nn_path \\\n",
    "  --dest $visual_path --filetype \"ppm\" \\\n",
    "  --model $best_checkpoint \\\n",
    "  --src $test_dataset --vis \"Activation Maximation\" \\\n",
    "  --mean $mean \\\n",
    "  --std $std"
   ]
  },
  {
   "cell_type": "markdown",
   "metadata": {
    "id": "OYUIPidZ_bSY"
   },
   "source": [
    "## Mask images"
   ]
  },
  {
   "cell_type": "code",
   "execution_count": null,
   "metadata": {
    "colab": {
     "background_save": true
    },
    "id": "TFtco07S_mpQ",
    "outputId": "261e8d49-9e0e-4d00-947e-5dcc23198a73"
   },
   "outputs": [],
   "source": [
    "# For our masking, we only need the following three folders.\n",
    "# We move them to an extra folder, for easier looping\n",
    "target = base_path.joinpath(\"to_be_masked\")\n",
    "target.mkdir(exist_ok=True, parents=True)\n",
    "shutil.move(str(visual_path.joinpath(\"heatmap_grad_cam\")), target)\n",
    "shutil.move(str(visual_path.joinpath(\"heatmap_grad_cam_pp\")), target)\n",
    "shutil.move(str(visual_path.joinpath(\"heatmap_saliency\")), target)"
   ]
  },
  {
   "cell_type": "code",
   "execution_count": null,
   "metadata": {
    "colab": {
     "background_save": true
    },
    "id": "qJDiuLWu_rBw",
    "outputId": "e02ad3c5-435d-461c-f25d-2723fd3add4d"
   },
   "outputs": [],
   "source": [
    "! python $mask_images_path --heatmaps $target \\\n",
    "--json_target $masking_jsons_path --json_file _heatmap_masked.csv \\\n",
    "--org_images $test_dataset \\\n",
    "--target $masking_results_path"
   ]
  },
  {
   "cell_type": "markdown",
   "metadata": {
    "id": "QnSLVj0S_ul7"
   },
   "source": [
    "## Download files\n",
    "Download the created datasets and results. Not necessary if you use a local system."
   ]
  },
  {
   "cell_type": "markdown",
   "metadata": {
    "id": "_c22u2Cgbp5H"
   },
   "source": [
    "### Datasets"
   ]
  },
  {
   "cell_type": "code",
   "execution_count": null,
   "metadata": {
    "colab": {
     "background_save": true
    },
    "id": "NIdMlGBhbph4",
    "outputId": "c2ac249f-0841-4c5a-cff3-319cad35d913"
   },
   "outputs": [],
   "source": [
    "if colab:\n",
    "    %cd /content\n",
    "    # Datasets\n",
    "    cropped_training = str(data_path.joinpath(\"cropped_training_init\"))\n",
    "    cropped_test = str(data_path.joinpath(\"cropped_test\"))\n",
    "    ! zip -r -q cropped_training_init.zip /content/data/cropped_training_init\n",
    "    ! zip -r -q cropped_test.zip /content/data/cropped_test\n",
    "\n",
    "    ! mkdir /content/datasets\n",
    "    ! mv cropped_training_init.zip /content/datasets\n",
    "    ! mv cropped_test.zip /content/datasets\n",
    "\n",
    "    ! zip -r -q datasets.zip /content/datasets/\n",
    "    \n",
    "    # Results\n",
    "    ! zip -r -q checkpoints.zip  /content/checkpoints\n",
    "    ! zip -r -q masking_jsons.zip  /content/masking_jsons\n",
    "    ! zip -r -q to_be_masked.zip  /content/to_be_masked\n",
    "    ! zip -r -q visualizations.zip  /content/visualizations/\n",
    "    ! zip -r -q masking_results.zip /content/masking_results\n",
    "\n",
    "    ! mkdir /content/results\n",
    "    ! mv checkpoints.zip  /content/results\n",
    "    ! mv masking_jsons.zip  /content/results\n",
    "    ! mv to_be_masked.zip  /content/results\n",
    "    ! mv visualizations.zip /content/results\n",
    "    ! mv masking_results.zip /content/results\n",
    "\n",
    "    ! zip -r -q results.zip  /content/results  \n",
    "    \n",
    "    # Example for download\n",
    "    # files.download(datasets.zip)\n",
    "    # files.download(results.zip) \n",
    "\n",
    "    # Example for copying to Google Drive\n",
    "    # You have to run the cell below first, to connect to Google Drive!\n",
    "    ! cp datasets.zip /content/drive/MyDrive/\n",
    "    ! cp results.zip /content/drive/MyDrive/"
   ]
  },
  {
   "cell_type": "code",
   "execution_count": null,
   "metadata": {},
   "outputs": [],
   "source": [
    "from google.colab import drive\n",
    "\n",
    "drive.mount(\"/content/drive\")"
   ]
  }
 ],
 "metadata": {
  "accelerator": "GPU",
  "colab": {
   "collapsed_sections": [],
   "name": "gtsrb_visualization.ipynb",
   "provenance": [],
   "toc_visible": true
  },
  "kernelspec": {
   "display_name": "Python 3",
   "language": "python",
   "name": "python3"
  },
  "language_info": {
   "codemirror_mode": {
    "name": "ipython",
    "version": 3
   },
   "file_extension": ".py",
   "mimetype": "text/x-python",
   "name": "python",
   "nbconvert_exporter": "python",
   "pygments_lexer": "ipython3",
   "version": "3.8.3"
  }
 },
 "nbformat": 4,
 "nbformat_minor": 4
}
