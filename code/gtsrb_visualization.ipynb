{
 "cells": [
  {
   "cell_type": "markdown",
   "metadata": {},
   "source": [
    "## WARNING:\n",
    "### All paths in this notebook are set up for use in Colab. If a local system is used, they must be adapted to the environment."
   ]
  },
  {
   "cell_type": "code",
   "execution_count": null,
   "metadata": {
    "id": "rQq48K8IhWwI"
   },
   "outputs": [],
   "source": [
    "import zipfile\n",
    "from pathlib import Path\n",
    "\n",
    "from google.colab import files"
   ]
  },
  {
   "cell_type": "markdown",
   "metadata": {
    "id": "Qe0KNHYnVIQZ"
   },
   "source": [
    "## Check for GPU Usage"
   ]
  },
  {
   "cell_type": "code",
   "execution_count": null,
   "metadata": {
    "colab": {
     "base_uri": "https://localhost:8080/"
    },
    "id": "Fp4BCBkfVHhN",
    "outputId": "58b0d866-dfe4-483d-8bb6-abebd594ba15"
   },
   "outputs": [],
   "source": [
    "%tensorflow_version 2.x\n",
    "import tensorflow as tf\n",
    "\n",
    "device_name = tf.test.gpu_device_name()\n",
    "if device_name != \"/device:GPU:0\":\n",
    "    raise SystemError(\n",
    "        \"\\n\\nThis error most likely means that this notebook is not \"\n",
    "        \"configured to use a GPU.  Change this in Notebook Settings via the \"\n",
    "        \"command palette (cmd/ctrl-shift-P) or the Edit menu.\\n\\n\"\n",
    "    )\n",
    "print(\"Found GPU at: {}\".format(device_name))"
   ]
  },
  {
   "cell_type": "markdown",
   "metadata": {
    "id": "Ve0tvKKhUEEa"
   },
   "source": [
    "## Install necessary modules\n",
    "Only neccessary if you working in colab. If you use your local system, please use the requirements.txt"
   ]
  },
  {
   "cell_type": "code",
   "execution_count": null,
   "metadata": {
    "colab": {
     "base_uri": "https://localhost:8080/"
    },
    "id": "i3voS8fPTk6J",
    "outputId": "d89ca5ef-d958-44bf-a4e3-271f324acf84"
   },
   "outputs": [],
   "source": [
    "! pip -q install pytorch-lightning --upgrade\n",
    "! pip -q install neptune-client\n",
    "! pip -q install kornia\n",
    "! pip -q install split-folders"
   ]
  },
  {
   "cell_type": "markdown",
   "metadata": {
    "id": "46kWfUzzX9e9"
   },
   "source": [
    "## Clone files from Github"
   ]
  },
  {
   "cell_type": "code",
   "execution_count": null,
   "metadata": {
    "colab": {
     "base_uri": "https://localhost:8080/"
    },
    "id": "bKZl94cCUHcX",
    "outputId": "3b300072-d815-45a1-8437-b0b545e7ea25"
   },
   "outputs": [],
   "source": [
    "! git clone https://github.com/RobinMaas95/GTSRB_Visualization.git"
   ]
  },
  {
   "cell_type": "markdown",
   "metadata": {
    "id": "MowhEukjoix-"
   },
   "source": [
    "## Download Datasets"
   ]
  },
  {
   "cell_type": "code",
   "execution_count": null,
   "metadata": {
    "colab": {
     "base_uri": "https://localhost:8080/"
    },
    "id": "W3DLKeAjft8Q",
    "outputId": "699d211d-2e53-4b6d-c97b-0adc2e1c003f"
   },
   "outputs": [],
   "source": [
    "! python GTSRB_Visualization/code/get_datasets.py --crop True"
   ]
  },
  {
   "cell_type": "markdown",
   "metadata": {
    "id": "Jkh4Gepuont4"
   },
   "source": [
    "## Initialize Datasets"
   ]
  },
  {
   "cell_type": "code",
   "execution_count": null,
   "metadata": {
    "colab": {
     "base_uri": "https://localhost:8080/"
    },
    "id": "p7LSdZJroqlP",
    "outputId": "0e97a677-7a6f-4d7a-8902-d885c37f54e6"
   },
   "outputs": [],
   "source": [
    "! python GTSRB_Visualization/code/initialize_dataset.py \\\n",
    "    --source_path \"/content/data/cropped_training\" \\\n",
    "    --target_path \"/content/data/cropped_training_init\""
   ]
  },
  {
   "cell_type": "markdown",
   "metadata": {
    "id": "78erRl31osB3"
   },
   "source": [
    "## Build Model"
   ]
  },
  {
   "cell_type": "code",
   "execution_count": null,
   "metadata": {
    "id": "UbsLJlXOSA3U"
   },
   "outputs": [],
   "source": [
    "! rm -rf checkpoints/"
   ]
  },
  {
   "cell_type": "code",
   "execution_count": null,
   "metadata": {
    "colab": {
     "base_uri": "https://localhost:8080/"
    },
    "id": "qxWZtrziYIzO",
    "outputId": "40d96b96-d3c3-4a4b-c438-86795d6483c4"
   },
   "outputs": [],
   "source": [
    "! python /content/GTSRB_Visualization/code/build_model.py \\\n",
    "  --train_dataset \"/content/data/cropped_training_init\" \\\n",
    "  --test_dataset \"/content/data/cropped_test\""
   ]
  },
  {
   "cell_type": "markdown",
   "metadata": {
    "id": "FRsMkYZgVGeI"
   },
   "source": [
    "## Set mean/std variables\n",
    "Set mean/std variables. \n",
    "You find them in the logs above close the top,\n",
    "just before the training begins.\n",
    "E.g.:\n",
    "\n",
    "```\n",
    "/content/GTSRB_Visualization/code/build_model.py - INFO - Mean: [0.32352597020361307, 0.2917746800988572, 0.31248061517888454]\n",
    "/content/GTSRB_Visualization/code/build_model.py - INFO - Std: [0.2770588879067902, 0.2602109151608635, 0.2735251700292777]\n",
    "```\n",
    "\n",
    "Replace the values of the _list variables with the lists at the end of the log lines:\n",
    "\n",
    " "
   ]
  },
  {
   "cell_type": "code",
   "execution_count": null,
   "metadata": {
    "id": "K9bZA6dkU2Y_"
   },
   "outputs": [],
   "source": [
    "mean_list = [0.3232291265307408, 0.2916548292210219, 0.31239060828717274]\n",
    "std_list = [0.2765753268041087, 0.26007308085671965, 0.27338755423173944]\n",
    "mean = f\"{mean_list[0]} {mean_list[1]} {mean_list[2]}\"\n",
    "std = f\"{std_list[0]} {std_list[1]} {std_list[2]}\""
   ]
  },
  {
   "cell_type": "markdown",
   "metadata": {
    "id": "MPpEs80M_OBp"
   },
   "source": [
    "## Run visualizations\n",
    "Saliency Map and Activation Maximization use the code from the following repo:\n",
    "\n",
    "https://github.com/hans66hsu/nn_interpretability\n",
    "\n",
    "Unfortunately, the package versions required to do this cause CUDA to stop working. Therefore GradCam and GradCam++ are first run with a version of visualization.py that does not import nn_interpretability."
   ]
  },
  {
   "cell_type": "code",
   "execution_count": null,
   "metadata": {
    "id": "uYGcKOCVAiHa"
   },
   "outputs": [],
   "source": [
    "# Autoselect best checkpoint\n",
    "from pathlib import Path\n",
    "\n",
    "checkpoint_results_path = \"/content/checkpoints/lightning_logs/version_0/checkpoints/\"\n",
    "p = Path(checkpoint_results_path).glob(\"**/*\")\n",
    "files = [x for x in p if x.is_file()]\n",
    "for file in files:\n",
    "    if file.name != \"last.ckpt\":\n",
    "        best_checkpoint = str(file)"
   ]
  },
  {
   "cell_type": "code",
   "execution_count": null,
   "metadata": {
    "colab": {
     "base_uri": "https://localhost:8080/"
    },
    "id": "uNbAxtk__SXa",
    "outputId": "7fd0ce7c-ed72-4005-c096-31426bbb8b58"
   },
   "outputs": [],
   "source": [
    "Path(r\"/content/visualizations\").mkdir(exist_ok=True)\n",
    "! python /content/GTSRB_Visualization/code/visualization.py \\\n",
    "  --dest \"/content/visualizations/\" --filetype \"ppm\" \\\n",
    "  --model $best_checkpoint \\\n",
    "  --src \"/content/data/cropped_test\" --vis \"GradCam\" \\\n",
    "  --mean $mean \\\n",
    "  --std $std"
   ]
  },
  {
   "cell_type": "code",
   "execution_count": null,
   "metadata": {
    "colab": {
     "base_uri": "https://localhost:8080/"
    },
    "id": "Hok9QPt__ISY",
    "outputId": "49b7bbc3-dca7-40d5-f670-ea4c636a7357"
   },
   "outputs": [],
   "source": [
    "Path(r\"/content/visualizations\").mkdir(exist_ok=True)\n",
    "! python /content/GTSRB_Visualization/code/visualization.py \\\n",
    "  --dest \"/content/visualizations/\" --filetype \"ppm\" \\\n",
    "  --model $best_checkpoint \\\n",
    "  --src \"/content/data/cropped_test\" --vis \"GradCam++\" \\\n",
    "  --mean $mean \\\n",
    "  --std $std"
   ]
  },
  {
   "cell_type": "code",
   "execution_count": null,
   "metadata": {
    "colab": {
     "base_uri": "https://localhost:8080/",
     "height": 1000
    },
    "id": "QaSaU89s_bkI",
    "outputId": "0934ec24-f5cd-451b-a604-3d4967f17448"
   },
   "outputs": [],
   "source": [
    "# Install nn_interpretability, make sure you push the restart button!\n",
    "! pip install -e \"/content/GTSRB_Visualization/code/nn_interpretability\""
   ]
  },
  {
   "cell_type": "code",
   "execution_count": null,
   "metadata": {
    "colab": {
     "base_uri": "https://localhost:8080/"
    },
    "id": "U9jERBYK_g52",
    "outputId": "8f00a4b6-4d06-44f5-f836-719a4d9d0ae3"
   },
   "outputs": [],
   "source": [
    "Path(r\"/content/visualizations\").mkdir(exist_ok=True)\n",
    "! python /content/GTSRB_Visualization/code/visualization_with_nn.py \\\n",
    "  --dest \"/content/visualizations/\" --filetype \"ppm\" \\\n",
    "  --model $best_checkpoint \\\n",
    "  --src \"/content/data/cropped_test\" --vis \"Saliency\" \\\n",
    "  --mean $mean \\\n",
    "  --std $std"
   ]
  },
  {
   "cell_type": "code",
   "execution_count": null,
   "metadata": {
    "colab": {
     "background_save": true
    },
    "id": "W9kZJ_Hd_jR4",
    "outputId": "8955e56c-786a-42ff-e9e3-d8bba2a3b118"
   },
   "outputs": [],
   "source": [
    "# Activation maximization does not really seem to deliver reproducible results. \n",
    "# Sometimes the accuracy for individual classes drops dramatically and running \n",
    "# it again fixes the problem. Therefore it is possible that the values generated\n",
    "# here differ more from the values of the thesis than with the other methods.\n",
    "Path(r\"/content/visualizations\").mkdir(exist_ok=True)\n",
    "! python /content/GTSRB_Visualization/code/visualization_with_nn.py \\\n",
    "  --dest \"/content/visualizations/\" --filetype \"ppm\" \\\n",
    "  --model $best_checkpoint \\\n",
    "  --src \"/content/data/cropped_test\" --vis \"Activation Maximation\" \\\n",
    "  --mean $mean \\\n",
    "  --std $std"
   ]
  },
  {
   "cell_type": "markdown",
   "metadata": {
    "id": "OYUIPidZ_bSY"
   },
   "source": [
    "## Mask images"
   ]
  },
  {
   "cell_type": "code",
   "execution_count": null,
   "metadata": {
    "colab": {
     "background_save": true
    },
    "id": "TFtco07S_mpQ",
    "outputId": "261e8d49-9e0e-4d00-947e-5dcc23198a73"
   },
   "outputs": [],
   "source": [
    "# For our masking, we only need the following three folders.\n",
    "# We move them to an extra folder, for easier looping\n",
    "import shutil\n",
    "\n",
    "target = Path(\"/content/to_be_masked/\")\n",
    "target.mkdir(exist_ok=True, parents=True)\n",
    "shutil.move(\"/content/visualizations/heatmap_grad_cam\", target)\n",
    "shutil.move(\"/content/visualizations/heatmap_grad_cam_pp\", target)\n",
    "shutil.move(\"/content/visualizations/heatmap_saliency\", target)"
   ]
  },
  {
   "cell_type": "code",
   "execution_count": null,
   "metadata": {
    "colab": {
     "background_save": true
    },
    "id": "qJDiuLWu_rBw",
    "outputId": "e02ad3c5-435d-461c-f25d-2723fd3add4d"
   },
   "outputs": [],
   "source": [
    "! python /content/GTSRB_Visualization/code/mask_images.py --heatmaps \"/content/to_be_masked/\" \\\n",
    "--json_target /content/masking_jsons --json_file _heatmap_masked.csv \\\n",
    "--org_images \"/content/data/cropped_test\" \\\n",
    "--target /content/masking_results/  \\"
   ]
  },
  {
   "cell_type": "markdown",
   "metadata": {
    "id": "QnSLVj0S_ul7"
   },
   "source": [
    "## Download files\n",
    "Download the created datasets and results. Not necessary if you use a local system."
   ]
  },
  {
   "cell_type": "markdown",
   "metadata": {
    "id": "_c22u2Cgbp5H"
   },
   "source": [
    "### Datasets"
   ]
  },
  {
   "cell_type": "code",
   "execution_count": null,
   "metadata": {
    "colab": {
     "background_save": true
    },
    "id": "NIdMlGBhbph4",
    "outputId": "c2ac249f-0841-4c5a-cff3-319cad35d913"
   },
   "outputs": [],
   "source": [
    "%cd /content"
   ]
  },
  {
   "cell_type": "code",
   "execution_count": null,
   "metadata": {
    "colab": {
     "background_save": true
    },
    "id": "AgCzpVVJb5Xe"
   },
   "outputs": [],
   "source": [
    "! zip -r -q cropped_training_init.zip /content/data/cropped_training_init\n",
    "! zip -r -q cropped_test.zip /content/data/cropped_test\n",
    "\n",
    "! mkdir /content/datasets\n",
    "! mv cropped_training_init.zip /content/datasets\n",
    "! mv cropped_test.zip /content/datasets\n",
    "\n",
    "! zip -r -q datasets.zip /content/datasets/"
   ]
  },
  {
   "cell_type": "markdown",
   "metadata": {
    "id": "gw3g2nnXh0TF"
   },
   "source": [
    "Download File or copy it to personal Google Drive\n",
    "(Make sure your Google Drive is connected)"
   ]
  },
  {
   "cell_type": "code",
   "execution_count": null,
   "metadata": {
    "colab": {
     "background_save": true
    },
    "id": "FQsPUPwBeJv4"
   },
   "outputs": [],
   "source": [
    "# Example for download\n",
    "# files.download(datasets.zip) \n",
    "\n",
    "# Example for Drive\n",
    "! cp datasets.zip /content/drive/MyDrive/"
   ]
  },
  {
   "cell_type": "markdown",
   "metadata": {
    "id": "drYBl8txbkk1"
   },
   "source": [
    "### Results"
   ]
  },
  {
   "cell_type": "code",
   "execution_count": null,
   "metadata": {
    "colab": {
     "background_save": true
    },
    "id": "oK22rKlr_vBm"
   },
   "outputs": [],
   "source": [
    "! zip -r -q checkpoints.zip  /content/checkpoints\n",
    "! zip -r -q masking_jsons.zip  /content/masking_jsons\n",
    "! zip -r -q to_be_masked.zip  /content/to_be_masked\n",
    "! zip -r -q visualizations.zip  /content/visualizations/\n",
    "! zip -r -q masking_results.zip /content/masking_results\n",
    "\n",
    "! mkdir /content/results\n",
    "! mv checkpoints.zip  /content/results\n",
    "! mv masking_jsons.zip  /content/results\n",
    "! mv to_be_masked.zip  /content/results\n",
    "! mv visualizations.zip /content/results\n",
    "! mv masking_results.zip /content/results\n",
    "\n",
    "! zip -r -q results_nesterov.zip  /content/results"
   ]
  }
 ],
 "metadata": {
  "accelerator": "GPU",
  "colab": {
   "collapsed_sections": [],
   "name": "gtsrb_visualization.ipynb",
   "provenance": [],
   "toc_visible": true
  },
  "kernelspec": {
   "display_name": "Python 3",
   "language": "python",
   "name": "python3"
  },
  "language_info": {
   "codemirror_mode": {
    "name": "ipython",
    "version": 3
   },
   "file_extension": ".py",
   "mimetype": "text/x-python",
   "name": "python",
   "nbconvert_exporter": "python",
   "pygments_lexer": "ipython3",
   "version": "3.8.3"
  }
 },
 "nbformat": 4,
 "nbformat_minor": 4
}
