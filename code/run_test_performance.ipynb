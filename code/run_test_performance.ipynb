{
 "cells": [
  {
   "cell_type": "markdown",
   "metadata": {},
   "source": [
    "## WARNING:\n",
    "### All paths in this notebook are set up for use in Colab. If a local system is used, they must be adapted to the environment."
   ]
  },
  {
   "cell_type": "code",
   "execution_count": null,
   "metadata": {
    "colab": {
     "base_uri": "https://localhost:8080/"
    },
    "id": "36Y-ILtIAuR1",
    "outputId": "1ae6169a-5265-4f63-c55e-708e34eccc34"
   },
   "outputs": [],
   "source": [
    "! git clone https://github.com/RobinMaas95/GTSRB_Visualization.git"
   ]
  },
  {
   "cell_type": "code",
   "execution_count": null,
   "metadata": {
    "id": "y8Iln4lsBIOR"
   },
   "outputs": [],
   "source": [
    "import sys\n",
    "\n",
    "sys.path.insert(0, \"/content/GTSRB_Visualization/code\")"
   ]
  },
  {
   "cell_type": "code",
   "execution_count": null,
   "metadata": {
    "colab": {
     "base_uri": "https://localhost:8080/"
    },
    "id": "LvOZizrIg_7Q",
    "outputId": "07bb2a33-32ff-4816-d0a0-5aae67f90d27"
   },
   "outputs": [],
   "source": [
    "# Only neccessary if you working in colab. If you use your local system, please use the requirements.txt\n",
    "! pip -q install pytorch-lightning --upgrade"
   ]
  },
  {
   "cell_type": "code",
   "execution_count": null,
   "metadata": {
    "id": "QZwnRezijHxD"
   },
   "outputs": [],
   "source": [
    "# Now all imports are possible\n",
    "import warnings\n",
    "import zipfile\n",
    "from pathlib import Path\n",
    "from shutil import copyfile\n",
    "\n",
    "import pandas as pd\n",
    "import seaborn as sns\n",
    "import torch\n",
    "from google import colab\n",
    "from matplotlib import pyplot as plt\n",
    "from matplotlib import ticker as ticker\n",
    "from model import LitModel\n",
    "from PIL import Image\n",
    "from skimage import io\n",
    "from torchvision import transforms as transforms\n",
    "\n",
    "warnings.filterwarnings(\"ignore\")"
   ]
  },
  {
   "cell_type": "markdown",
   "metadata": {},
   "source": [
    "# Copy files\n",
    "Copying the data from the Github repository. If your own data is to be used, the source of the commands should be adjusted or the locations should be referenced directly later in the notebook."
   ]
  },
  {
   "cell_type": "code",
   "execution_count": null,
   "metadata": {
    "id": "N03fKO1UHq7Q"
   },
   "outputs": [],
   "source": [
    "! cp \"/content/GTSRB_Visualization/checkpoints/trained_model.ckpt\" /content/trained_model.ckpt\n",
    "! cp \"/content/GTSRB_Visualization/checkpoints/trained_model_org.ckpt\" /content/trained_model_org.ckpt"
   ]
  },
  {
   "cell_type": "code",
   "execution_count": null,
   "metadata": {
    "id": "gaspgGvcnOgO"
   },
   "outputs": [],
   "source": [
    "! cp -r /content/GTSRB_Visualization/data/cropped_test /content/cropped_test\n",
    "! cp -r /content/GTSRB_Visualization/data/original_test /content/original_test\n",
    "! cp -r /content/GTSRB_Visualization/data/masking_results /content/masking_results\n",
    "! cp -r /content/GTSRB_Visualization/data/real_examples /content/real_examples\n",
    "! cp -r /content/GTSRB_Visualization/data/sticker /content/sticker"
   ]
  },
  {
   "cell_type": "code",
   "execution_count": null,
   "metadata": {
    "id": "UuVh22ufLyeP"
   },
   "outputs": [],
   "source": [
    "# Paths must be adjusted according to your folder structure!\n",
    "# This take very long, only run them if you really want to use them\n",
    "! unzip -qq \"/content/drive/MyDrive/Master Thesis/rework/perspective.zip\"\n",
    "! unzip -qq \"/content/drive/MyDrive/Master Thesis/rework/rotated.zip\""
   ]
  },
  {
   "cell_type": "code",
   "execution_count": null,
   "metadata": {
    "id": "fBSwjTPu6WHo"
   },
   "outputs": [],
   "source": [
    "FILETYPE_LIST = [\"pdf\", \"png\", \"svg\"]\n",
    "\n",
    "\n",
    "def create_clean_df(path, acc_name_tuple, to_be_index_name=\"bla\"):\n",
    "    df = pd.read_csv(path, index_col=0)\n",
    "    df.sort_values(to_be_index_name, inplace=True)\n",
    "    df.set_index(to_be_index_name, inplace=True)\n",
    "    df.rename(columns={acc_name_tuple[0]: acc_name_tuple[1]}, inplace=True)\n",
    "    df.index.name = None\n",
    "\n",
    "    return df\n",
    "\n",
    "\n",
    "def save_images(filename, fig):\n",
    "    for file_type in FILETYPE_LIST:\n",
    "        fig.savefig(f\"{filename}.{file_type}\")"
   ]
  },
  {
   "cell_type": "markdown",
   "metadata": {
    "id": "PDOdszYMcR10"
   },
   "source": [
    "# Run Performance Tests"
   ]
  },
  {
   "cell_type": "markdown",
   "metadata": {
    "id": "a-eZkxOREdDL"
   },
   "source": [
    "## Set mean/std variables\n",
    "Use the correct values for your dataset, if you created one!\n",
    "Set mean/std variables. Use the correct values for your dataset, if you created one!\n",
    "\n",
    "You find them in the logs under the build_model.py call, e.g.:\n",
    "\n",
    "\n",
    "```\n",
    "/content/GTSRB_Visualization/code/build_model.py - INFO - Mean: [0.32352597020361307, 0.2917746800988572, 0.31248061517888454]\n",
    "/content/GTSRB_Visualization/code/build_model.py - INFO - Std: [0.2770588879067902, 0.2602109151608635, 0.2735251700292777]\n",
    "```\n",
    "\n",
    "Replace the values of the _list variables with the lists at the end of the log lines:\n",
    "\n",
    " "
   ]
  },
  {
   "cell_type": "code",
   "execution_count": null,
   "metadata": {
    "id": "rAUnNT4qEXrI"
   },
   "outputs": [],
   "source": [
    "mean_list = [0.3232291265307408, 0.2916548292210219, 0.31239060828717274]\n",
    "std_list = [0.2765753268041087, 0.26007308085671965, 0.27338755423173944]\n",
    "mean = f\"{mean_list[0]} {mean_list[1]} {mean_list[2]}\"\n",
    "std = f\"{std_list[0]} {std_list[1]} {std_list[2]}\""
   ]
  },
  {
   "cell_type": "markdown",
   "metadata": {
    "id": "3vlz_mZmOkiS"
   },
   "source": [
    "## Original Datasets"
   ]
  },
  {
   "cell_type": "code",
   "execution_count": null,
   "metadata": {
    "colab": {
     "base_uri": "https://localhost:8080/"
    },
    "id": "xyGk5PKwOjoZ",
    "outputId": "a819aceb-ff07-429b-ce96-1de88704ed12"
   },
   "outputs": [],
   "source": [
    "# Passing the specific mean/std values from the original dataset, later we \n",
    "# will use the mean/std variables for this, but they contain the values\n",
    "# for the cropped datasets\n",
    "! python /content/GTSRB_Visualization/code/test_performance.py --checkpoint \"/content/trained_model_org.ckpt\" --method_names \"Original\"  \\\n",
    "   --datasets \"/content/original_test\" \\\n",
    "   --mean 0.31191239122335596 0.2876613986697896 0.29806319801822573 \\\n",
    "   --std 0.2787123625790472 0.26702313360428914 0.2753398226529556"
   ]
  },
  {
   "cell_type": "code",
   "execution_count": null,
   "metadata": {
    "colab": {
     "base_uri": "https://localhost:8080/"
    },
    "id": "--aumBUQ7QlI",
    "outputId": "5334fcb1-effb-4653-ac0d-9138a71aaee6"
   },
   "outputs": [],
   "source": [
    "# No need to pass mean/std because of the default values in test_performance.py\n",
    "# If you created your own datasets, make sure that you pass the right mean/std values\n",
    "! python /content/GTSRB_Visualization/code/test_performance.py \\\n",
    "  --checkpoint \"/content/trained_model.ckpt\" \\\n",
    "  --method_names \"Original Cropped\"  \\\n",
    "  --datasets \"/content/cropped_test\" \\\n",
    "  --mean $mean \\\n",
    "  --std $std"
   ]
  },
  {
   "cell_type": "markdown",
   "metadata": {
    "id": "rp8e2an1cZ3c"
   },
   "source": [
    "## Masked Datasets"
   ]
  },
  {
   "cell_type": "code",
   "execution_count": null,
   "metadata": {
    "colab": {
     "base_uri": "https://localhost:8080/"
    },
    "id": "kugviFZbhWUw",
    "outputId": "4e115533-ff1e-4952-c7c7-fa928be98ea1"
   },
   "outputs": [],
   "source": [
    "! python /content/GTSRB_Visualization/code/test_performance.py \\\n",
    "  --checkpoint \"/content/trained_model.ckpt\" \\\n",
    "  --method_names \"GradCam\" \"GradCam++\" \"Saliency Map\" \\\n",
    "  --datasets \"/content/masking_results/heatmap_grad_cam/masked_heatmap_grad_cam_\" \\\n",
    "   \"/content/masking_results/heatmap_grad_cam_pp/masked_heatmap_grad_cam_pp_\" \\\n",
    "   \"/content/masking_results/heatmap_saliency/masked_heatmap_saliency_\" \\\n",
    "  --mean $mean \\\n",
    "  --std $std"
   ]
  },
  {
   "cell_type": "markdown",
   "metadata": {
    "id": "SXH7pvlPcggy"
   },
   "source": [
    "## Rotated/Perspective\n",
    "\n"
   ]
  },
  {
   "cell_type": "code",
   "execution_count": null,
   "metadata": {
    "colab": {
     "base_uri": "https://localhost:8080/"
    },
    "id": "61V7BOy-Vj_x",
    "outputId": "619a9102-e48a-427d-d4d1-7b34df1b9a4f"
   },
   "outputs": [],
   "source": [
    "! python /content/GTSRB_Visualization/code/test_performance.py \\\n",
    "  --checkpoint \"/content/trained_model.ckpt\" \\\n",
    "  --method_names \"Rotated\" \\\n",
    "  --datasets \"/content/content/rotated/rotated_test_crop_degree_\" \\\n",
    "  --mean $mean \\\n",
    "  --std $std"
   ]
  },
  {
   "cell_type": "code",
   "execution_count": null,
   "metadata": {
    "colab": {
     "base_uri": "https://localhost:8080/"
    },
    "id": "AdOk_cvuvZg4",
    "outputId": "0debffce-6a46-46da-8723-a905845d0afd"
   },
   "outputs": [],
   "source": [
    "! python /content/GTSRB_Visualization/code/test_performance.py \\\n",
    "  --checkpoint \"/content/trained_model.ckpt\" \\\n",
    "  --method_names \"Perspective\" \\\n",
    "  --datasets \"/content/content/perspective/perspective_degree_\" \\\n",
    "  --mean $mean \\\n",
    "  --std $std"
   ]
  },
  {
   "cell_type": "markdown",
   "metadata": {
    "id": "6o8S8h4fauk6"
   },
   "source": [
    "# Count files in folder"
   ]
  },
  {
   "cell_type": "code",
   "execution_count": null,
   "metadata": {
    "id": "L0ZDTGSgJJtf"
   },
   "outputs": [],
   "source": [
    "def get_num_files_in_folder(folder_dict):\n",
    "    result_dict = {}\n",
    "    for key, value in folder_dict.items():\n",
    "        p = Path(value).glob(\"**/*\")\n",
    "        files = [x for x in p if x.is_file()]\n",
    "        result_dict[key] = len(files)\n",
    "\n",
    "    return result_dict"
   ]
  },
  {
   "cell_type": "code",
   "execution_count": null,
   "metadata": {
    "id": "apuxyaolJNvx"
   },
   "outputs": [],
   "source": [
    "folder_dict = {\n",
    "    \"GradCam\": \"/content/masking_results/heatmap_grad_cam/masked_heatmap_grad_cam_01\",\n",
    "    \"Saliency Map\": \"/content/masking_results/heatmap_saliency/masked_heatmap_saliency_01/\",\n",
    "    \"GradCam++\": \"/content/masking_results/heatmap_grad_cam_pp/masked_heatmap_grad_cam_pp_01\",\n",
    "    \"Original\": \"/content/cropped_test\",\n",
    "}\n",
    "\n",
    "num_files_dict = get_num_files_in_folder(folder_dict)"
   ]
  },
  {
   "cell_type": "code",
   "execution_count": null,
   "metadata": {
    "colab": {
     "base_uri": "https://localhost:8080/",
     "height": 515
    },
    "id": "lBCpfbIpM-vL",
    "outputId": "e8fc6514-4848-4f20-880f-c49f31aae0fd"
   },
   "outputs": [],
   "source": [
    "fig = plt.figure(figsize=(10, 8))\n",
    "df = pd.DataFrame(num_files_dict.items(), columns=[\"Method\", \"Number of Files\"])\n",
    "splot = sns.barplot(\n",
    "    x=\"Method\",\n",
    "    y=\"Number of Files\",\n",
    "    data=df.sort_values(by=\"Number of Files\", ascending=False),\n",
    ")\n",
    "for p in splot.patches:\n",
    "    splot.annotate(\n",
    "        format(p.get_height(), \".0f\"),\n",
    "        (p.get_x() + p.get_width() / 2.0, p.get_height()),\n",
    "        ha=\"center\",\n",
    "        va=\"center\",\n",
    "        xytext=(0, 9),\n",
    "        textcoords=\"offset points\",\n",
    "    )\n",
    "plt.ylabel(\"Anzahl der Bilder\", size=14)\n",
    "plt.xlabel(\"Visualisierungs Methode\", size=14)"
   ]
  },
  {
   "cell_type": "code",
   "execution_count": null,
   "metadata": {
    "id": "_HAAznw5PJgP"
   },
   "outputs": [],
   "source": [
    "name = \"overview_number_files_methods\"\n",
    "save_images(name, fig)\n",
    "df.to_csv(name, index=False)"
   ]
  },
  {
   "cell_type": "markdown",
   "metadata": {
    "id": "0JRuKeFYc6am"
   },
   "source": [
    "# Plot results"
   ]
  },
  {
   "cell_type": "markdown",
   "metadata": {
    "id": "tXxpwXgdc8Zt"
   },
   "source": [
    "# Perspective"
   ]
  },
  {
   "cell_type": "code",
   "execution_count": null,
   "metadata": {
    "colab": {
     "base_uri": "https://localhost:8080/",
     "height": 399
    },
    "id": "CI8UKV-BZHkw",
    "outputId": "e8f43d9c-cebe-449e-e852-15821875d4b7"
   },
   "outputs": [],
   "source": [
    "df = pd.read_csv(r\"/content/perspective_degree__df.csv\")\n",
    "\n",
    "sns.set_theme(style=\"whitegrid\")\n",
    "seaborn_plot = sns.relplot(data=df, x=\"Perspective\", y=\"Test accuracy\")\n",
    "plt.ylabel(\"Test Accuracy\")\n",
    "plt.xlabel(\"Grad Rotation Z-Achse\")"
   ]
  },
  {
   "cell_type": "code",
   "execution_count": null,
   "metadata": {
    "id": "2jYF2RGiauCQ"
   },
   "outputs": [],
   "source": [
    "# Center around 0 Degree\n",
    "df[\"Perspective\"] = df[\"Perspective\"].apply(lambda x: x if x < 100 else x - 360)\n",
    "df.to_csv(\"/content/perspective_degree__df.csv\", index=False)\n",
    "\n",
    "# Clean up df\n",
    "df = create_clean_df(\n",
    "    r\"/content/perspective_degree__df.csv\",\n",
    "    (\"Test accuracy\", \"Test Accuracy\"),\n",
    "    to_be_index_name=\"Perspective\",\n",
    ")"
   ]
  },
  {
   "cell_type": "code",
   "execution_count": null,
   "metadata": {
    "colab": {
     "base_uri": "https://localhost:8080/",
     "height": 399
    },
    "id": "EKEhMz4XcA-1",
    "outputId": "c6786e2d-7edc-4089-dd44-708ad965b849"
   },
   "outputs": [],
   "source": [
    "sns.set_theme(style=\"whitegrid\")\n",
    "seaborn_plot = sns.relplot(data=df, x=df.index, y=\"Test Accuracy\")\n",
    "plt.ylabel(\"Test Accuracy\")\n",
    "plt.xlabel(\"Grad Rotation Z-Achse\")"
   ]
  },
  {
   "cell_type": "code",
   "execution_count": null,
   "metadata": {
    "id": "u0Q4Ox9nlxrb"
   },
   "outputs": [],
   "source": [
    "name = \"perspective_degree\"\n",
    "save_images(name, seaborn_plot)\n",
    "df.to_csv(name + \".csv\", index=False)"
   ]
  },
  {
   "cell_type": "markdown",
   "metadata": {
    "id": "p7ChH-4TeSj9"
   },
   "source": [
    "## Rotated"
   ]
  },
  {
   "cell_type": "code",
   "execution_count": null,
   "metadata": {
    "colab": {
     "base_uri": "https://localhost:8080/",
     "height": 399
    },
    "id": "1IZMCH-UeVRG",
    "outputId": "039efbc2-685d-4fec-ea83-d327e67cbb53"
   },
   "outputs": [],
   "source": [
    "df = pd.read_csv(r\"/content/rotated_test_crop_degree__df.csv\")\n",
    "\n",
    "sns.set_theme(style=\"whitegrid\")\n",
    "seaborn_plot = sns.relplot(data=df, x=\"Rotated\", y=\"Test accuracy\")\n",
    "plt.ylabel(\"Test Accuracy\")\n",
    "plt.xlabel(\"Grad Rotation X-Achse\")"
   ]
  },
  {
   "cell_type": "code",
   "execution_count": null,
   "metadata": {
    "id": "Ez3o8ySBjmMg"
   },
   "outputs": [],
   "source": [
    "# Center around 0 Degree\n",
    "df[\"Rotated\"] = df[\"Rotated\"].apply(lambda x: x if x < 100 else x - 360)\n",
    "df.to_csv(r\"/content/rotated_degree.csv\", index=False)\n",
    "\n",
    "# Clean up df\n",
    "df = create_clean_df(\n",
    "    r\"/content/rotated_degree.csv\",\n",
    "    (\"Test accuracy\", \"Test Accuracy\"),\n",
    "    to_be_index_name=\"Rotated\",\n",
    ")\n",
    "df.to_csv(r\"/content/rotated_degree.csv\", index=False)"
   ]
  },
  {
   "cell_type": "code",
   "execution_count": null,
   "metadata": {
    "colab": {
     "base_uri": "https://localhost:8080/",
     "height": 399
    },
    "id": "1y4BoVQVjtDl",
    "outputId": "08be0f78-1573-46bf-afc9-14758fbae16b"
   },
   "outputs": [],
   "source": [
    "sns.set_theme(style=\"whitegrid\")\n",
    "seaborn_plot = sns.relplot(data=df, x=df.index, y=\"Test Accuracy\")\n",
    "plt.ylabel(\"Test Accuracy\")\n",
    "plt.xlabel(\"Grad Rotation X-Achse\")"
   ]
  },
  {
   "cell_type": "code",
   "execution_count": null,
   "metadata": {
    "id": "F7uQz2a0t6RN"
   },
   "outputs": [],
   "source": [
    "name = \"rotated_degree\"\n",
    "save_images(name, seaborn_plot)\n",
    "df.to_csv(name + \".csv\", index=False)"
   ]
  },
  {
   "cell_type": "code",
   "execution_count": null,
   "metadata": {
    "colab": {
     "base_uri": "https://localhost:8080/"
    },
    "id": "M4_wgSJx1uho",
    "outputId": "d6ac0838-202c-4c34-d525-02a160bbee4b"
   },
   "outputs": [],
   "source": [
    "# Remove old rotated images\n",
    "! rm /content/rotated_test_crop_degree.png\n",
    "! rm /content/rotated_test_crop_degree.pdf\n",
    "! rm /content/rotated_test_crop_degree.svg"
   ]
  },
  {
   "cell_type": "markdown",
   "metadata": {
    "id": "sVRdtgbNq6Dk"
   },
   "source": [
    "## Create GradCam Folder equal to GradCam++\n",
    "GradCam++ has less heat maps with activation than GradCam. Since the masking was only applied to heatmaps with activation, the performance evaluation is performed on fewer images. If these are \"worse\" images, this could cause GradCam++ to degrade more. To compensate for this, a dataset is created which contains the images from GradCam, which are also available in GradCam++."
   ]
  },
  {
   "cell_type": "code",
   "execution_count": null,
   "metadata": {
    "id": "uQvD1pBLq_9c"
   },
   "outputs": [],
   "source": [
    "grad_cam_pp_folder = (\n",
    "    \"/content/masking_results/heatmap_grad_cam_pp/masked_heatmap_grad_cam_pp_01\"\n",
    ")\n",
    "grad_cam_folder = \"/content/masking_results/heatmap_grad_cam/masked_heatmap_grad_cam_\"\n",
    "grad_cam_cutted = (\n",
    "    \"/content/masking_results/heatmap_grad_cam_cutted/masked_heatmap_grad_cam_cutted_\"\n",
    ")\n",
    "\n",
    "p = Path(grad_cam_pp_folder).glob(\"**/*\")\n",
    "files = [x for x in p if x.is_file()]"
   ]
  },
  {
   "cell_type": "code",
   "execution_count": null,
   "metadata": {
    "id": "bLYCjB1VrSYf"
   },
   "outputs": [],
   "source": [
    "for i in range(1, 11):\n",
    "    for cfile in files:\n",
    "        src = str(\n",
    "            Path(grad_cam_folder + str(i).zfill(2)).joinpath(\n",
    "                cfile.parent.name, cfile.name\n",
    "            )\n",
    "        )\n",
    "        dest = Path(grad_cam_cutted + str(i).zfill(2)).joinpath(\n",
    "            cfile.parent.name, cfile.name\n",
    "        )\n",
    "        dest.parent.mkdir(parents=True, exist_ok=True)\n",
    "        try:\n",
    "            copyfile(src, str(dest))\n",
    "        except FileNotFoundError:\n",
    "            # For some images there might be a GradCam++ heatmap, but no GradCam heatmap\n",
    "            pass"
   ]
  },
  {
   "cell_type": "code",
   "execution_count": null,
   "metadata": {
    "colab": {
     "base_uri": "https://localhost:8080/"
    },
    "id": "MYpZ6SN62h6W",
    "outputId": "fae2df5b-9b92-4ccf-bfde-d0587328fd30"
   },
   "outputs": [],
   "source": [
    "folder_dict = {\n",
    "    \"GradCam++\": \"/content/masking_results/heatmap_grad_cam_pp/masked_heatmap_grad_cam_pp_01\",\n",
    "    \"GradCam Cutted\": \"/content/masking_results/heatmap_grad_cam_cutted/masked_heatmap_grad_cam_cutted_01\",\n",
    "}\n",
    "\n",
    "results = get_num_files_in_folder(folder_dict)\n",
    "print(results)\n",
    "print(\n",
    "    \"--> \"\n",
    "    + str(results.get(\"GradCam++\") - results.get(\"GradCam Cutted\"))\n",
    "    + \" Images less in GradCam\"\n",
    ")"
   ]
  },
  {
   "cell_type": "code",
   "execution_count": null,
   "metadata": {
    "colab": {
     "base_uri": "https://localhost:8080/"
    },
    "id": "6ppUWN6wuArz",
    "outputId": "6ba287f8-a865-403b-c87b-b133194850d2"
   },
   "outputs": [],
   "source": [
    "! python /content/GTSRB_Visualization/code/test_performance.py \\\n",
    "  --checkpoint \"/content/trained_model.ckpt\" \\\n",
    "  --method_name \"GradCam Cutted\" \\\n",
    "  --datasets \"/content/masking_results/heatmap_grad_cam_cutted/masked_heatmap_grad_cam_cutted_\" \\\n",
    "  --mean $mean \\\n",
    "  --std $std"
   ]
  },
  {
   "cell_type": "markdown",
   "metadata": {
    "id": "iLBSg3t6j4Is"
   },
   "source": [
    "# Compare Results Masking"
   ]
  },
  {
   "cell_type": "markdown",
   "metadata": {
    "id": "Njlm_wTPkxlR"
   },
   "source": [
    "## Prepare result df"
   ]
  },
  {
   "cell_type": "code",
   "execution_count": null,
   "metadata": {
    "id": "z1Slc10iwp-9"
   },
   "outputs": [],
   "source": [
    "df_org = create_clean_df(\n",
    "    \"/content/cropped_test_df.csv\", (\"Test accuracy\", \"Original\"), \"Original Cropped\"\n",
    ")\n",
    "df_sm = create_clean_df(\n",
    "    \"/content/masked_heatmap_saliency__df.csv\",\n",
    "    (\"Test accuracy\", \"Saliency Map\"),\n",
    "    \"Saliency Map\",\n",
    ")\n",
    "df_gradcam = create_clean_df(\n",
    "    \"/content/masked_heatmap_grad_cam__df.csv\", (\"Test accuracy\", \"GradCam\"), \"GradCam\"\n",
    ")\n",
    "df_gradcam_cutted = create_clean_df(\n",
    "    \"/content/masked_heatmap_grad_cam_cutted__df.csv\",\n",
    "    (\"Test accuracy\", \"GradCam Cutted\"),\n",
    "    \"GradCam Cutted\",\n",
    ")\n",
    "df_gcpp = create_clean_df(\n",
    "    \"/content/masked_heatmap_grad_cam_pp__df.csv\",\n",
    "    (\"Test accuracy\", \"GradCam++\"),\n",
    "    \"GradCam++\",\n",
    ")"
   ]
  },
  {
   "cell_type": "code",
   "execution_count": null,
   "metadata": {
    "id": "waGyERNQkHzT"
   },
   "outputs": [],
   "source": [
    "# Saliency Map and GradCamCutted have no value for no masking, I fill that value with the result from the original dataset\n",
    "df_sm.loc[0] = df_org[\"Original\"][0]\n",
    "df_gradcam_cutted.loc[0] = df_org[\"Original\"][0]"
   ]
  },
  {
   "cell_type": "code",
   "execution_count": null,
   "metadata": {
    "colab": {
     "base_uri": "https://localhost:8080/",
     "height": 390
    },
    "id": "ha9qZE0E0yd3",
    "outputId": "4943887a-ca9b-417b-db46-c76a2120cf7f"
   },
   "outputs": [],
   "source": [
    "result = pd.concat([df_sm, df_gradcam, df_gradcam_cutted, df_gcpp], axis=1, sort=False)\n",
    "result"
   ]
  },
  {
   "cell_type": "code",
   "execution_count": null,
   "metadata": {
    "id": "62HG8LyN13Vi"
   },
   "outputs": [],
   "source": [
    "result.to_csv(\"/content/drive/MyDrive/Master Thesis/result_methods.csv\", index=False)"
   ]
  },
  {
   "cell_type": "markdown",
   "metadata": {
    "id": "OUkQzwFGk1fL"
   },
   "source": [
    "## Plots"
   ]
  },
  {
   "cell_type": "code",
   "execution_count": null,
   "metadata": {
    "colab": {
     "base_uri": "https://localhost:8080/",
     "height": 286
    },
    "id": "zKtyJ-hv2Otw",
    "outputId": "86f17946-0a52-4fde-c45c-767a681e26ac"
   },
   "outputs": [],
   "source": [
    "sns.set_theme(style=\"whitegrid\")\n",
    "splot = sns.lineplot(data=result, markers=True)\n",
    "splot.set(xlabel=\"Anzahl maskierte Zellen\", ylabel=\"Test Accuracy\")\n",
    "splot.xaxis.set_major_locator(ticker.MultipleLocator(1))\n",
    "splot.xaxis.set_major_formatter(ticker.ScalarFormatter())\n",
    "splot.yaxis.set_major_locator(ticker.MultipleLocator(0.1))\n",
    "splot.yaxis.set_major_formatter(ticker.ScalarFormatter())\n",
    "splot.figure.savefig(f\"overview_methods_combined_lines.png\")\n",
    "splot.figure.savefig(f\"overview_methods_combined_lines.svg\")\n",
    "splot.figure.savefig(f\"overview_methods_combined_lines.pdf\")"
   ]
  },
  {
   "cell_type": "code",
   "execution_count": null,
   "metadata": {
    "colab": {
     "base_uri": "https://localhost:8080/",
     "height": 286
    },
    "id": "CLRj4LesSRa2",
    "outputId": "84f6e65a-4138-4a9a-c5eb-0d7d1a972f58"
   },
   "outputs": [],
   "source": [
    "sns.set_theme(style=\"whitegrid\")\n",
    "splot = sns.scatterplot(data=result, markers=True)\n",
    "splot.set(xlabel=\"Anzahl maskierte Zellen\", ylabel=\"Test Accuracy\")\n",
    "splot.xaxis.set_major_locator(ticker.MultipleLocator(1))\n",
    "splot.xaxis.set_major_formatter(ticker.ScalarFormatter())\n",
    "splot.yaxis.set_major_locator(ticker.MultipleLocator(0.1))\n",
    "splot.yaxis.set_major_formatter(ticker.ScalarFormatter())\n",
    "splot.figure.savefig(f\"overview_methods_combined_scatter.png\")\n",
    "splot.figure.savefig(f\"overview_methods_combined_scatter.svg\")\n",
    "splot.figure.savefig(f\"overview_methods_combined_scatter.pdf\")"
   ]
  },
  {
   "cell_type": "code",
   "execution_count": null,
   "metadata": {
    "colab": {
     "base_uri": "https://localhost:8080/",
     "height": 537
    },
    "id": "5OQAOXDj2PSC",
    "outputId": "7190cca1-2a08-46c0-a4ca-41e84f7bd1be"
   },
   "outputs": [],
   "source": [
    "fig, axes = plt.subplots(2, 2, figsize=(10, 8), sharex=True, sharey=True)\n",
    "sns.lineplot(\n",
    "    x=df_sm.index,\n",
    "    y=\"Saliency Map\",\n",
    "    data=df_sm,\n",
    "    ax=axes[0, 0],\n",
    "    color=sns.color_palette()[0],\n",
    ")\n",
    "sns.lineplot(\n",
    "    y=\"GradCam\",\n",
    "    x=df_gradcam.index,\n",
    "    data=df_gradcam,\n",
    "    ax=axes[0, 1],\n",
    "    color=sns.color_palette()[1],\n",
    ")\n",
    "sns.lineplot(\n",
    "    y=\"GradCam Cutted\",\n",
    "    x=df_gradcam_cutted.index,\n",
    "    data=df_gradcam_cutted,\n",
    "    ax=axes[1, 0],\n",
    "    color=sns.color_palette()[2],\n",
    ")\n",
    "sns.lineplot(\n",
    "    y=\"GradCam++\",\n",
    "    x=df_gcpp.index,\n",
    "    data=df_gcpp,\n",
    "    ax=axes[1, 1],\n",
    "    color=sns.color_palette()[3],\n",
    ")\n",
    "axes[0, 0].set_title(\"Saliency Map\")\n",
    "axes[0, 1].set_title(\"GradCam\")\n",
    "axes[1, 0].set_title(\"GradCam Cutted\")\n",
    "axes[1, 1].set_title(\"GradCam++\")\n",
    "#  Make common axis labels\n",
    "axes[-1, 0].set_ylabel(\".\", color=(0, 0, 0, 0))\n",
    "axes[-0, 0].set_ylabel(\".\", color=(0, 0, 0, 0))\n",
    "fig.text(0.5, 0.04, \"Test Accuracy\", va=\"center\", ha=\"center\")\n",
    "fig.text(\n",
    "    0.04, 0.5, \"Anzahl maskierte Zellen\", va=\"center\", ha=\"center\", rotation=\"vertical\"\n",
    ")\n",
    "\n",
    "fig.savefig(f\"overview_methods_line_grid.png\")\n",
    "fig.savefig(f\"overview_methods_line_grid.svg\")\n",
    "fig.savefig(f\"overview_methods_line_grid.pdf\")"
   ]
  },
  {
   "cell_type": "code",
   "execution_count": null,
   "metadata": {
    "colab": {
     "base_uri": "https://localhost:8080/",
     "height": 537
    },
    "id": "_vWTkOK78cYR",
    "outputId": "344634a0-50cd-47e7-9127-2260b6e13143"
   },
   "outputs": [],
   "source": [
    "fig, axes = plt.subplots(2, 2, figsize=(10, 8), sharex=True, sharey=True)\n",
    "sns.scatterplot(\n",
    "    x=df_sm.index,\n",
    "    y=\"Saliency Map\",\n",
    "    data=df_sm,\n",
    "    ax=axes[0, 0],\n",
    "    color=sns.color_palette()[0],\n",
    ")\n",
    "sns.scatterplot(\n",
    "    y=\"GradCam\",\n",
    "    x=df_gradcam.index,\n",
    "    data=df_gradcam,\n",
    "    ax=axes[0, 1],\n",
    "    color=sns.color_palette()[1],\n",
    ")\n",
    "sns.scatterplot(\n",
    "    y=\"GradCam Cutted\",\n",
    "    x=df_gradcam_cutted.index,\n",
    "    data=df_gradcam_cutted,\n",
    "    ax=axes[1, 0],\n",
    "    color=sns.color_palette()[2],\n",
    ")\n",
    "sns.scatterplot(\n",
    "    y=\"GradCam++\",\n",
    "    x=df_gcpp.index,\n",
    "    data=df_gcpp,\n",
    "    ax=axes[1, 1],\n",
    "    color=sns.color_palette()[3],\n",
    ")\n",
    "axes[0, 0].set_title(\"Saliency Map\")\n",
    "axes[0, 1].set_title(\"GradCam\")\n",
    "axes[1, 0].set_title(\"GradCam Cutted\")\n",
    "axes[1, 1].set_title(\"GradCam++\")\n",
    "#  Make common axis labels\n",
    "axes[-1, 0].set_ylabel(\".\", color=(0, 0, 0, 0))\n",
    "axes[-0, 0].set_ylabel(\".\", color=(0, 0, 0, 0))\n",
    "fig.text(0.5, 0.04, \"Test Accuracy\", va=\"center\", ha=\"center\")\n",
    "fig.text(\n",
    "    0.04, 0.5, \"Anzahl maskierte Zellen\", va=\"center\", ha=\"center\", rotation=\"vertical\"\n",
    ")\n",
    "\n",
    "fig.savefig(f\"overview_methods_scatter_grid.png\")\n",
    "fig.savefig(f\"overview_methods_scatter_grid.svg\")\n",
    "fig.savefig(f\"overview_methods_scatter_grid.pdf\")"
   ]
  },
  {
   "cell_type": "markdown",
   "metadata": {
    "id": "CD05Mr6LAFjR"
   },
   "source": [
    "# Stock Images"
   ]
  },
  {
   "cell_type": "markdown",
   "metadata": {
    "id": "u25XEjEwAHo1"
   },
   "source": [
    "## Original"
   ]
  },
  {
   "cell_type": "code",
   "execution_count": null,
   "metadata": {
    "colab": {
     "base_uri": "https://localhost:8080/"
    },
    "id": "mUc04KvEANQF",
    "outputId": "c41dcef6-4568-4d31-8c65-6f7ed4f056ed"
   },
   "outputs": [],
   "source": [
    "! python /content/GTSRB_Visualization/code/test_performance.py \\\n",
    "  --checkpoint \"/content/trained_model.ckpt\" \\\n",
    "  --method_names \"Original Stock\" \\\n",
    "  --datasets \"/content/sticker/original\" \\\n",
    "  --mean $mean \\\n",
    "  --std $std"
   ]
  },
  {
   "cell_type": "markdown",
   "metadata": {
    "id": "LNInh3emLBzC"
   },
   "source": [
    "## Manipulated"
   ]
  },
  {
   "cell_type": "markdown",
   "metadata": {
    "id": "McP6xCtXLEK3"
   },
   "source": [
    "### Fortuna"
   ]
  },
  {
   "cell_type": "code",
   "execution_count": null,
   "metadata": {
    "colab": {
     "base_uri": "https://localhost:8080/"
    },
    "id": "WrJhKrG20BK6",
    "outputId": "8882790f-96bb-4c02-fccb-afa1d9b36023"
   },
   "outputs": [],
   "source": [
    "! python /content/GTSRB_Visualization/code/test_performance.py \\\n",
    "  --checkpoint \"/content/trained_model.ckpt\"  \\\n",
    "  --method_names \"Fortuna Large\" \\\n",
    "  --datasets \"/content/sticker/fortuna/large_sign\" \\\n",
    "  --mean $mean \\\n",
    "  --std $std\n",
    "\n",
    "! mv /content/large_sign.png /content/fortuna_large_sign.png\n",
    "! mv /content/large_sign.pdf /content/fortuna_large_sign.pdf\n",
    "! mv /content/large_sign.svg /content/fortuna_large_sign.svg\n",
    "! mv /content/large_sign_df.csv /content/fortuna_large_sign_df.csv"
   ]
  },
  {
   "cell_type": "code",
   "execution_count": null,
   "metadata": {
    "colab": {
     "base_uri": "https://localhost:8080/"
    },
    "id": "-B-plGgiLLEG",
    "outputId": "3d8a4d4b-4911-4247-fcdd-e8bd32245a35"
   },
   "outputs": [],
   "source": [
    "! python /content/GTSRB_Visualization/code/test_performance.py \\\n",
    "  --checkpoint \"/content/trained_model.ckpt\"  \\\n",
    "  --method_names \"Fortuna Medium\" \\\n",
    "  --datasets \"/content/sticker/fortuna/medium_sign\" \\\n",
    "  --mean $mean \\\n",
    "  --std $std\n",
    "\n",
    "! mv /content/medium_sign.png /content/fortuna_medium_sign.png\n",
    "! mv /content/medium_sign.pdf /content/fortuna_medium_sign.pdf\n",
    "! mv /content/medium_sign.svg /content/fortuna_medium_sign.svg\n",
    "! mv /content/medium_sign_df.csv /content/fortuna_medium_sign_df.csv"
   ]
  },
  {
   "cell_type": "code",
   "execution_count": null,
   "metadata": {
    "colab": {
     "base_uri": "https://localhost:8080/"
    },
    "id": "bxL9ie8lLLsy",
    "outputId": "a460770d-1681-4971-9fee-8489c7798db8"
   },
   "outputs": [],
   "source": [
    "! python /content/GTSRB_Visualization/code/test_performance.py \\\n",
    "  --checkpoint \"/content/trained_model.ckpt\"  \\\n",
    "  --method_names \"Fortuna Small\" \\\n",
    "  --datasets \"/content/sticker/fortuna/small_sign\" \\\n",
    "  --mean $mean \\\n",
    "  --std $std\n",
    "\n",
    "! mv /content/small_sign.png /content/fortuna_small_sign.png\n",
    "! mv /content/small_sign.pdf /content/fortuna_small_sign.pdf\n",
    "! mv /content/small_sign.svg /content/fortuna_small_sign.svg\n",
    "! mv /content/small_sign_df.csv /content/fortuna_small_sign_df.csv"
   ]
  },
  {
   "cell_type": "markdown",
   "metadata": {
    "id": "j7L4lovHLc0y"
   },
   "source": [
    "### Bochum"
   ]
  },
  {
   "cell_type": "code",
   "execution_count": null,
   "metadata": {
    "colab": {
     "base_uri": "https://localhost:8080/"
    },
    "id": "Eg7_QxkSLVUp",
    "outputId": "51251c43-aa11-466a-c57d-f9ab0592b2ab"
   },
   "outputs": [],
   "source": [
    "! python /content/GTSRB_Visualization/code/test_performance.py \\\n",
    "  --checkpoint \"/content/trained_model.ckpt\" \\\n",
    "  --method_names \"Bochum Large\" \\\n",
    "  --datasets \"/content/sticker/bochum/large_sign\" \\\n",
    "  --mean $mean \\\n",
    "  --std $std\n",
    "\n",
    "! mv /content/large_sign.png /content/bochum_large_sign.png\n",
    "! mv /content/large_sign.pdf /content/bochum_large_sign.pdf\n",
    "! mv /content/large_sign.svg /content/bochum_large_sign.svg\n",
    "! mv /content/large_sign_df.csv /content/bochum_large_sign_df.csv"
   ]
  },
  {
   "cell_type": "code",
   "execution_count": null,
   "metadata": {
    "colab": {
     "base_uri": "https://localhost:8080/"
    },
    "id": "w2lrc5P8LeVd",
    "outputId": "22b31232-6218-4ea9-cce3-7bc7958ff3c6"
   },
   "outputs": [],
   "source": [
    "! python /content/GTSRB_Visualization/code/test_performance.py \\\n",
    "  --checkpoint \"/content/trained_model.ckpt\" \\\n",
    "  --method_names \"Bochum Medium\" \\\n",
    "  --datasets \"/content/sticker/bochum/medium_sign\" \\\n",
    "  --mean $mean \\\n",
    "  --std $std\n",
    "\n",
    "! mv /content/medium_sign.png /content/bochum_medium_sign.png\n",
    "! mv /content/medium_sign.pdf /content/bochum_medium_sign.pdf\n",
    "! mv /content/medium_sign.svg /content/bochum_medium_sign.svg\n",
    "! mv /content/medium_sign_df.csv /content/bochum_medium_sign_df.csv"
   ]
  },
  {
   "cell_type": "code",
   "execution_count": null,
   "metadata": {
    "colab": {
     "base_uri": "https://localhost:8080/"
    },
    "id": "TPoA5UpJLmCA",
    "outputId": "63af6829-845a-4bcd-985d-93f1ff77a0b1"
   },
   "outputs": [],
   "source": [
    "! python /content/GTSRB_Visualization/code/test_performance.py \\\n",
    "  --checkpoint \"/content/trained_model.ckpt\" \\\n",
    "  --method_names \"Bochum Small\" \\\n",
    "  --datasets \"/content/sticker/bochum/small_sign\" \\\n",
    "  --mean $mean \\\n",
    "  --std $std\n",
    "\n",
    "! mv /content/small_sign.png /content/bochum_small_sign.png\n",
    "! mv /content/small_sign.pdf /content/bochum_small_sign.pdf\n",
    "! mv /content/small_sign.svg /content/bochum_small_sign.svg\n",
    "! mv /content/small_sign_df.csv /content/bochum_small_sign_df.csv"
   ]
  },
  {
   "cell_type": "markdown",
   "metadata": {
    "id": "3YE1i8k3LlLs"
   },
   "source": [
    "### Merge Results"
   ]
  },
  {
   "cell_type": "code",
   "execution_count": null,
   "metadata": {
    "id": "cmCPQnfkL4TQ"
   },
   "outputs": [],
   "source": [
    "org_df = create_clean_df(\n",
    "    \"/content/original_df.csv\", (\"Test accuracy\", \"Fortuna\"), \"Original Stock\"\n",
    ")\n",
    "df_fortuna_large = create_clean_df(\n",
    "    \"/content/fortuna_large_sign_df.csv\", (\"Test accuracy\", \"Fortuna\"), \"Fortuna Large\"\n",
    ")\n",
    "df_fortuna_medium = create_clean_df(\n",
    "    \"/content/fortuna_medium_sign_df.csv\",\n",
    "    (\"Test accuracy\", \"Fortuna\"),\n",
    "    \"Fortuna Medium\",\n",
    ")\n",
    "df_fortuna_small = create_clean_df(\n",
    "    \"/content/fortuna_small_sign_df.csv\", (\"Test accuracy\", \"Fortuna\"), \"Fortuna Small\"\n",
    ")\n",
    "df_fortuna = pd.concat(\n",
    "    [org_df, df_fortuna_large, df_fortuna_medium, df_fortuna_small], ignore_index=True\n",
    ")\n",
    "df_fortuna.rename(\n",
    "    index={0: \"Original\", 1: \"Large\", 2: \"Medium\", 3: \"Small\"}, inplace=True\n",
    ")"
   ]
  },
  {
   "cell_type": "code",
   "execution_count": null,
   "metadata": {
    "id": "aISU0IhCMCOb"
   },
   "outputs": [],
   "source": [
    "org_df = create_clean_df(\n",
    "    \"/content/original_df.csv\", (\"Test accuracy\", \"Bochum\"), \"Original Stock\"\n",
    ")\n",
    "df_bochum_large = create_clean_df(\n",
    "    \"/content/bochum_large_sign_df.csv\", (\"Test accuracy\", \"Bochum\"), \"Bochum Large\"\n",
    ")\n",
    "df_bochum_medium = create_clean_df(\n",
    "    \"/content/bochum_medium_sign_df.csv\", (\"Test accuracy\", \"Bochum\"), \"Bochum Medium\"\n",
    ")\n",
    "df_bochum_small = create_clean_df(\n",
    "    \"/content/bochum_small_sign_df.csv\", (\"Test accuracy\", \"Bochum\"), \"Bochum Small\"\n",
    ")\n",
    "df_bochum = pd.concat(\n",
    "    [org_df, df_bochum_large, df_bochum_medium, df_bochum_small], ignore_index=True\n",
    ")\n",
    "df_bochum.rename(\n",
    "    index={0: \"Original\", 1: \"Large\", 2: \"Medium\", 3: \"Small\"}, inplace=True\n",
    ")"
   ]
  },
  {
   "cell_type": "code",
   "execution_count": null,
   "metadata": {
    "colab": {
     "base_uri": "https://localhost:8080/",
     "height": 173
    },
    "id": "9Wffw5MCPP__",
    "outputId": "7ec08a3b-b542-49c9-c963-29f4fbcc1b36"
   },
   "outputs": [],
   "source": [
    "result_sticker = pd.concat([df_fortuna, df_bochum], axis=1, sort=False)\n",
    "result_sticker.to_csv(\"overview_sticker.csv\")\n",
    "result_sticker"
   ]
  },
  {
   "cell_type": "code",
   "execution_count": null,
   "metadata": {
    "colab": {
     "base_uri": "https://localhost:8080/",
     "height": 285
    },
    "id": "te-g7XGRPehf",
    "outputId": "31c60d97-a22f-4dc7-dda3-e80cef184680"
   },
   "outputs": [],
   "source": [
    "sns.set_theme(style=\"whitegrid\")\n",
    "splot = sns.lineplot(data=result_sticker, markers=True)\n",
    "splot.set(xlabel=\"Schilder Größe\", ylabel=\"Test Accuracy\")\n",
    "splot.xaxis.set_major_locator(ticker.MultipleLocator(1))\n",
    "splot.xaxis.set_major_formatter(ticker.ScalarFormatter())\n",
    "splot.yaxis.set_major_locator(ticker.MultipleLocator(0.1))\n",
    "splot.yaxis.set_major_formatter(ticker.ScalarFormatter())\n",
    "splot.set_xticks(range(len(result_sticker)))\n",
    "splot.set_xticklabels([\"None\", \"Groß\", \"Mittel\", \"Klein\"])\n",
    "splot.figure.savefig(f\"overview_sticker_lines.png\")\n",
    "splot.figure.savefig(f\"overview_sticker_lines.svg\")\n",
    "splot.figure.savefig(f\"overview_sticker_lines.pdf\")"
   ]
  },
  {
   "cell_type": "code",
   "execution_count": null,
   "metadata": {
    "colab": {
     "base_uri": "https://localhost:8080/",
     "height": 285
    },
    "id": "MPzeemECPuJO",
    "outputId": "a8e822c0-8293-4207-b546-6904dc240857"
   },
   "outputs": [],
   "source": [
    "sns.set_theme(style=\"whitegrid\")\n",
    "splot = sns.scatterplot(data=result_sticker, markers=True)\n",
    "splot.set(xlabel=\"Schilder Größe\", ylabel=\"Test Accuracy\")\n",
    "splot.xaxis.set_major_locator(ticker.MultipleLocator(1))\n",
    "splot.xaxis.set_major_formatter(ticker.ScalarFormatter())\n",
    "splot.yaxis.set_major_locator(ticker.MultipleLocator(0.1))\n",
    "splot.yaxis.set_major_formatter(ticker.ScalarFormatter())\n",
    "splot.set_xticks(range(len(result_sticker)))\n",
    "splot.set_xticklabels([\"None\", \"Groß\", \"Mittel\", \"Klein\"])\n",
    "splot.figure.savefig(f\"overview_sticker_scatter.png\")\n",
    "splot.figure.savefig(f\"overview_sticker_scatter.svg\")\n",
    "splot.figure.savefig(f\"overview_sticker_scatter.pdf\")"
   ]
  },
  {
   "cell_type": "markdown",
   "metadata": {
    "id": "LAHUn2OzS4JU"
   },
   "source": [
    "# Real Examples"
   ]
  },
  {
   "cell_type": "code",
   "execution_count": null,
   "metadata": {
    "id": "b-xf8rW-ij49"
   },
   "outputs": [],
   "source": [
    "mean = mean_list\n",
    "std = std_list"
   ]
  },
  {
   "cell_type": "code",
   "execution_count": null,
   "metadata": {
    "id": "69ypmIztUke-"
   },
   "outputs": [],
   "source": [
    "def test_image(img_path):\n",
    "    image = Image.open(img_path).convert(\"RGB\")\n",
    "    tensor = preprocess(image)\n",
    "    tensor = tensor.unsqueeze(0)\n",
    "    y_pred = model(tensor)\n",
    "    sm = torch.nn.Softmax()\n",
    "    a, y_hat = torch.max(sm(y_pred), dim=1)\n",
    "    return a, y_hat"
   ]
  },
  {
   "cell_type": "code",
   "execution_count": null,
   "metadata": {
    "colab": {
     "base_uri": "https://localhost:8080/",
     "height": 1000
    },
    "id": "JDH4EW6TXaCh",
    "outputId": "e892286b-c4f2-4524-ac59-2a9761fab770"
   },
   "outputs": [],
   "source": [
    "preprocess = transforms.Compose(\n",
    "    [\n",
    "        transforms.Resize((48, 48)),\n",
    "        transforms.ToTensor(),\n",
    "        transforms.Normalize(mean, std),\n",
    "    ]\n",
    ")\n",
    "\n",
    "model = LitModel.load_from_checkpoint(\n",
    "    \"/content/trained_model.ckpt\",\n",
    "    mean=mean,\n",
    "    std=std,\n",
    "    train_dataset=None,\n",
    "    test_dataset=None,\n",
    ")\n",
    "model.eval()\n",
    "\n",
    "tuples = [(0, 1), (2, 3), (4, 5), (6, 7), (8, 9)]\n",
    "targets = [\n",
    "    \"00012\",\n",
    "    \"00012\",\n",
    "    \"00012\",\n",
    "    \"00012\",\n",
    "    \"00027\",\n",
    "    \"00027\",\n",
    "    \"00038\",\n",
    "    \"00038\",\n",
    "    \"00039\",\n",
    "    \"00039\",\n",
    "]\n",
    "examples = sorted([x for x in Path(\"/content/real_examples\").rglob(\"*.png\")])\n",
    "\n",
    "fig, axes = plt.subplots(5, 2, figsize=(20, 20))\n",
    "ax = axes.ravel()\n",
    "\n",
    "for t in tuples:\n",
    "    a_org, y_hat_org = test_image(str(examples[t[0]]))\n",
    "    a_fixed, y_hat_fixed = test_image(str(examples[t[1]]))\n",
    "    ax[t[0]].imshow(io.imread(examples[t[0]]))\n",
    "    ax[t[0]].set_xlabel(\n",
    "        \"Wahre Klasse: \"\n",
    "        + r\"$\\bf{}$\".format(targets[t[0]])\n",
    "        + \"\\nKlassifizierung \"\n",
    "        + r\"$\\bf{}$\".format(str(y_hat_org[0].item()).zfill(5))\n",
    "        + \" mit \\n einer Wahrscheinlichkeit von \"\n",
    "        + r\"$\\bf{:10.4f}$\".format(a_org[0]),\n",
    "        horizontalalignment=\"center\",\n",
    "    )\n",
    "    ax[t[0]].set_xticks([])\n",
    "    ax[t[0]].set_yticks([])\n",
    "    ax[t[1]].imshow(io.imread(examples[t[1]]))\n",
    "    ax[t[1]].set_xlabel(\n",
    "        \"Wahre Klasse: \"\n",
    "        + r\"$\\bf{}$\".format(targets[t[1]])\n",
    "        + \"\\nKlassifizierung \"\n",
    "        + r\"$\\bf{}$\".format(str(y_hat_fixed[0].item()).zfill(5))\n",
    "        + \" with \\n a probability of \"\n",
    "        + r\"$\\bf{:10.4f}$\".format(a_fixed[0]),\n",
    "        horizontalalignment=\"center\",\n",
    "    )\n",
    "    ax[t[1]].set_xticks([])\n",
    "    ax[t[1]].set_yticks([])\n",
    "\n",
    "\n",
    "fig.tight_layout()\n",
    "plt.show()\n",
    "fig.savefig(f\"real_examples.png\")\n",
    "fig.savefig(f\"real_examples.svg\")\n",
    "fig.savefig(f\"real_examples.pdf\")"
   ]
  },
  {
   "cell_type": "markdown",
   "metadata": {
    "id": "jPi4nlAZs8xn"
   },
   "source": [
    "# Download created files\n",
    "Download the created files. Not necessary if you use a local system."
   ]
  },
  {
   "cell_type": "code",
   "execution_count": null,
   "metadata": {
    "id": "LWJK4TI5sEGC"
   },
   "outputs": [],
   "source": [
    "p = Path(r\"/content/\").glob(\"./*\")\n",
    "files = [x for x in p if x.is_file()]"
   ]
  },
  {
   "cell_type": "code",
   "execution_count": null,
   "metadata": {
    "id": "RPnmRme_uX5A"
   },
   "outputs": [],
   "source": [
    "suffix_list = [\".pdf\", \".png\", \".svg\", \".csv\"]\n",
    "\n",
    "with zipfile.ZipFile(\"results_nesterov.zip\", \"w\") as zipF:\n",
    "    for file in files:\n",
    "        if file.suffix in suffix_list:\n",
    "            zipF.write(str(file), compress_type=zipfile.ZIP_DEFLATED)"
   ]
  },
  {
   "cell_type": "code",
   "execution_count": null,
   "metadata": {
    "colab": {
     "base_uri": "https://localhost:8080/",
     "height": 17
    },
    "id": "VIpxqj26tzLM",
    "outputId": "208d4394-e84e-42a0-d86b-d38457bc69d9"
   },
   "outputs": [],
   "source": [
    "colab.files.download(\"/content/results_nesterov.zip\")"
   ]
  }
 ],
 "metadata": {
  "accelerator": "GPU",
  "colab": {
   "collapsed_sections": [],
   "machine_shape": "hm",
   "name": "run_test_performance.ipynb",
   "provenance": [],
   "toc_visible": true
  },
  "kernelspec": {
   "display_name": "Python 3",
   "language": "python",
   "name": "python3"
  },
  "language_info": {
   "codemirror_mode": {
    "name": "ipython",
    "version": 3
   },
   "file_extension": ".py",
   "mimetype": "text/x-python",
   "name": "python",
   "nbconvert_exporter": "python",
   "pygments_lexer": "ipython3",
   "version": "3.8.3"
  }
 },
 "nbformat": 4,
 "nbformat_minor": 4
}
